{
  "nbformat": 4,
  "nbformat_minor": 0,
  "metadata": {
    "colab": {
      "name": "cd_podstawy_python_challenge_1.ipynb",
      "provenance": [],
      "authorship_tag": "ABX9TyMSwu0Kbc9Ia9TsKD2c2Uo1",
      "include_colab_link": true
    },
    "kernelspec": {
      "name": "python3",
      "display_name": "Python 3"
    }
  },
  "cells": [
    {
      "cell_type": "markdown",
      "metadata": {
        "id": "view-in-github",
        "colab_type": "text"
      },
      "source": [
        "<a href=\"https://colab.research.google.com/github/wojciecho6/MISP_WD/blob/main/cd_podstawy_python_challenge_1.ipynb\" target=\"_parent\"><img src=\"https://colab.research.google.com/assets/colab-badge.svg\" alt=\"Open In Colab\"/></a>"
      ]
    },
    {
      "cell_type": "code",
      "metadata": {
        "id": "nhUcHHZlp111"
      },
      "source": [
        "import numpy as np"
      ],
      "execution_count": 2,
      "outputs": []
    },
    {
      "cell_type": "markdown",
      "metadata": {
        "id": "TfC8FgJqqEd3"
      },
      "source": [
        "Stworz typ NumerTelefonu\n",
        "\n",
        "-- przy tworzeniu sprawdza czy właściwy numer (Polski) jeśli nie pisze, że error (ew. Exception)\n",
        "\n",
        "-- gdy printuję to mi pisze polskimi słowami i.e. \"jeden, pięć, siedem, zero\"\n",
        "\n",
        "-- gdy wywołuję właściwość wojewodzwtwo, podaje mi wojewodztwo ew. ze to komorkowy"
      ]
    },
    {
      "cell_type": "markdown",
      "metadata": {
        "id": "x9X7s7qqqUF-"
      },
      "source": [
        "Ma na takie rzeczy być w stanie odpowiedzieć:\n",
        "\n",
        "numer_lodz = NumerTelefonu(\"426877868\")\n",
        "- \"prawidlowy numer\"\n",
        "\n",
        "numer_lodz.wojewodztwo \n",
        "- \"Lodz\"\n",
        "\n",
        "print(numer_lodz)\n",
        "- \"cztery dwa sześć osiem siedem siedem osiem sześć osiem\""
      ]
    },
    {
      "cell_type": "code",
      "metadata": {
        "colab": {
          "base_uri": "https://localhost:8080/"
        },
        "id": "_Lhku16QqWH_",
        "outputId": "ef7cfb23-9128-4977-88f8-3f0ba388dfde"
      },
      "source": [
        "print (\"Podaj stacjonarny numer telefonu:\")\n",
        "insert_number = input()\n",
        "\n",
        "\n",
        "class phone_number:\n",
        "\n",
        "    def __init__(self, check_number):  #definicja\n",
        "        self.number = check_number     #\n",
        "        print(\"Wprowadzono numer:\", self.number,)\n",
        "      \n",
        "    @property #zamienia na wlasciwosc \n",
        "    def f_check_correctness(self):       #funkcja sprawdzajaca dlugosc wprowadzonego numeru\n",
        "        if (len(self.number)==9):      #len - funkcja python zwracajaca dlugosc wyrazu    \n",
        "          print(\"prawidlowy numer\")     \n",
        "        else:\n",
        "          print(\"Error\")\n",
        "\n",
        "    @property #zamienia na wlasciwosc \n",
        "    def f_check_voivodeship(self):  #funkcja sprawdzajaca jakie wojewodztwo\n",
        "      kierunkowe_lodzkie = [42, 43, 44, 46] #42(lodz); 43(sieradz); 44(piotrkow trybunalski); 46(rawa mazowiecka) \n",
        "      kierunkowe_malopolskie = [12, 14, 18]  #12(krakow); 14(nowy sacz); 18(tarnow)  \n",
        "      voivodeship = \"\"\n",
        "      prefix = int(self.number[0])*10 + int(self.number[1])\n",
        "      if (prefix in kierunkowe_malopolskie):\n",
        "        voivodeship = \"Małopolskie\"\n",
        "      elif (prefix in kierunkowe_lodzkie):\n",
        "        voivodeship = \"Łódzkie\" \n",
        "      else:\n",
        "        voivodeship = \"unknown\"\n",
        "      print(\"Województwo:\", voivodeship)\n",
        "\n",
        "    @property #zamienia na wlasciwosc \n",
        "    def f_insert(self): #funkcja wypisujaca slownie wpisany numer\n",
        "      write_phone_number = \"\" \n",
        "      list_number = [\"zero\", \"jeden\", \"dwa\", \"trzy\", \"cztery\", \"pięć\", \"sześć\", \"siedem\", \"osiem\", \"dziewięć\"]\n",
        "      for i in range(len(self.number)):  #range zwraca nową tablicę liczb zawartych w przedziale długości wprowadzonego numeru\n",
        "        write_phone_number += list_number[int(self.number[i])] + \" \" \n",
        "      print (\"Numer słownie:\", write_phone_number)  \n",
        "\n",
        "\n",
        "\n",
        "\n",
        "   \n",
        "check_number = phone_number(insert_number)\n",
        "check_number.f_check_correctness\n",
        "check_number.f_check_voivodeship\n",
        "check_number.f_insert"
      ],
      "execution_count": 24,
      "outputs": [
        {
          "output_type": "stream",
          "text": [
            "Podaj stacjonarny numer telefonu:\n",
            "422552525\n",
            "Wprowadzono numer: 422552525\n",
            "prawidlowy numer\n",
            "Województwo: Łódzkie\n",
            "Numer słownie: cztery dwa dwa pięć pięć dwa pięć dwa pięć \n"
          ],
          "name": "stdout"
        }
      ]
    },
    {
      "cell_type": "code",
      "metadata": {
        "id": "NYSGJ5WxqJ0U"
      },
      "source": [
        ""
      ],
      "execution_count": null,
      "outputs": []
    }
  ]
}