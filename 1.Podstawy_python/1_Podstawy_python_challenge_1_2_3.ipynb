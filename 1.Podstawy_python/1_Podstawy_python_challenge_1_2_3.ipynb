{
  "nbformat": 4,
  "nbformat_minor": 0,
  "metadata": {
    "colab": {
      "name": "Podstawy_python_challenge_1_2_3.ipynb",
      "provenance": [],
      "authorship_tag": "ABX9TyNx76hpWh8LpHklyxzKYhp1",
      "include_colab_link": true
    },
    "kernelspec": {
      "name": "python3",
      "display_name": "Python 3"
    }
  },
  "cells": [
    {
      "cell_type": "markdown",
      "metadata": {
        "id": "view-in-github",
        "colab_type": "text"
      },
      "source": [
        "<a href=\"https://colab.research.google.com/github/wojciecho6/MISP_WD/blob/main/Podstawy_python_challenge_1_2_3.ipynb\" target=\"_parent\"><img src=\"https://colab.research.google.com/assets/colab-badge.svg\" alt=\"Open In Colab\"/></a>"
      ]
    },
    {
      "cell_type": "code",
      "metadata": {
        "colab": {
          "base_uri": "https://localhost:8080/"
        },
        "id": "yGZFMqTfIqx-",
        "outputId": "317f8632-11a0-4e18-f191-974909e85eab"
      },
      "source": [
        "#### challenge 0.1\n",
        "\n",
        "zajecia = [\"wf\",\"informatyka\",\"relax\",\"mispy\",\"piateczek\"]\n",
        "\n",
        "dnityg= [\"Pon\",\"Wto\",\"Sro\",\"Czwar\",\"Pio\"]\n",
        "\n",
        "\n",
        "# wyprintuj zajecia od srody do piatku\n",
        "\n",
        "print (zajecia[2: ])  #\n",
        "\n",
        "# wyprintuj oprocz srody\n",
        "for day, week in enumerate(dnityg):\n",
        "  if (day !=2):\n",
        "    print(zajecia[day])"
      ],
      "execution_count": 25,
      "outputs": [
        {
          "output_type": "stream",
          "text": [
            "['relax', 'mispy', 'piateczek']\n",
            "wf\n",
            "informatyka\n",
            "mispy\n",
            "piateczek\n"
          ],
          "name": "stdout"
        }
      ]
    },
    {
      "cell_type": "code",
      "metadata": {
        "colab": {
          "base_uri": "https://localhost:8080/"
        },
        "id": "Z9xb0cvgI7pY",
        "outputId": "bbf34cbe-e6e0-47ce-a2fe-23cb8f39faf4"
      },
      "source": [
        "#### challenge 0.2\n",
        "\n",
        "zajecia = [[\"wf\"],\n",
        "           [\"informatyka\", \"nauka czytania\"],\n",
        "           [\"relax\", \"jedzenie\"],\n",
        "           [\"mispy\",\"mispy w domu\"],\n",
        "           [\"piateczek\", \"praca domowa z mispow\", \"Ilovemispy\", \"mispy w czasie snu\"]\n",
        "          ]\n",
        "\n",
        "dnityg= [\"Pon\",\"Wto\",\"Sro\",\"Czwar\",\"Pio\"]\n",
        "\n",
        "\n",
        "\n",
        "# zdefiniuj funkcje ktora poda ile jest zajec danego dnia\n",
        "\n",
        "def f_activities(day_activ):      #zdefiniowanie funkcji activities która przyjmuje za argument listę zajęć na poszczególny dzień\n",
        "    return len(day_activ)         #zwraca ilość zajęć na poszczególny dzień\n",
        " \n",
        "## lista_zajec_z_dnia -> ile ich jest\n",
        "\n",
        "for i in range(len(dnityg)): \n",
        "    print(dnityg[i],f_activities(zajecia[i]))     #wypisanie w każdym osobnym wierszu dnia tygodnia wraz z liczba zajec\n",
        "\n",
        "### posortuj dni po najbardziej zajetych\n",
        "\n",
        "def f_sort(dnityg, zajecia, f_compare):\n",
        "  for j in range(len(dnityg)):\n",
        "    for i in range(len(dnityg) - 1):\n",
        "      if f_compare(zajecia[i]) < f_compare(zajecia[i+1]):       #podstawia zajecia[i] do zdefiniowanej funkcji porównującej, a nastepnie sprawdza nierówność\n",
        "        dnityg[i], dnityg[i+1] = dnityg[i+1], dnityg[i]                             #zamienia miejscami dni tygodnia \n",
        "        zajecia[i], zajecia[i+1] = zajecia[i+1], zajecia[i]                         #i elementy w tablicy zajecia\n",
        "  return dnityg\n",
        "print(f_sort(dnityg, zajecia, len))\n",
        "\n",
        "\n",
        "\n",
        "\n"
      ],
      "execution_count": 24,
      "outputs": [
        {
          "output_type": "stream",
          "text": [
            "Pon 1\n",
            "Wto 2\n",
            "Sro 2\n",
            "Czwar 2\n",
            "Pio 4\n",
            "['Pio', 'Wto', 'Sro', 'Czwar', 'Pon']\n",
            "Dzien z największą ilością mispów: Pio\n"
          ],
          "name": "stdout"
        }
      ]
    },
    {
      "cell_type": "code",
      "metadata": {
        "colab": {
          "base_uri": "https://localhost:8080/"
        },
        "id": "G1781WEJeGKh",
        "outputId": "5a02d0a3-b054-4e0a-9dff-60037b20b486"
      },
      "source": [
        "#### challenge 0.3\n",
        "# napisz program ktory znajdzie dzien z najwieksza iloscia mispow\n",
        "def f_calculate(day):\n",
        "  counter = 0\n",
        "  for i in range(len(day)):\n",
        "    if 'misp' in day[i]:\n",
        "      counter += 1\n",
        "  return counter\n",
        "  \n",
        "print(\"Dzien z największą ilością mispów to:\", f_sort(dnityg, zajecia, f_calculate)[0])"
      ],
      "execution_count": 27,
      "outputs": [
        {
          "output_type": "stream",
          "text": [
            "Dzien z największą ilością mispów to: Pon\n"
          ],
          "name": "stdout"
        }
      ]
    }
  ]
}