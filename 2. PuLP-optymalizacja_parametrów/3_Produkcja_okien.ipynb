{
  "nbformat": 4,
  "nbformat_minor": 0,
  "metadata": {
    "colab": {
      "name": "3_Produkcja_okien.ipynb",
      "provenance": [],
      "collapsed_sections": []
    },
    "kernelspec": {
      "name": "python3",
      "display_name": "Python 3"
    },
    "widgets": {
      "application/vnd.jupyter.widget-state+json": {
        "a1dabe17203b4f29a604ee2412e0e1d4": {
          "model_module": "@jupyter-widgets/controls",
          "model_name": "VBoxModel",
          "state": {
            "_view_name": "VBoxView",
            "_dom_classes": [
              "widget-interact"
            ],
            "_model_name": "VBoxModel",
            "_view_module": "@jupyter-widgets/controls",
            "_model_module_version": "1.5.0",
            "_view_count": null,
            "_view_module_version": "1.5.0",
            "box_style": "",
            "layout": "IPY_MODEL_1f9712bbae2c478da2feee7a3b7d3e9e",
            "_model_module": "@jupyter-widgets/controls",
            "children": [
              "IPY_MODEL_d0dae3486ab14a97b36a56e951a6e874",
              "IPY_MODEL_127391b28b054cd2a766ce39372768bf",
              "IPY_MODEL_8a94a569680a48b181462fc068b5e4b3",
              "IPY_MODEL_91859c32646f45e1bcb2e5ed5201e24a",
              "IPY_MODEL_7f11aec80ef84ab5b1b71e0f32e903c2",
              "IPY_MODEL_c18ee277299d439d82f676839665bc76"
            ]
          }
        },
        "1f9712bbae2c478da2feee7a3b7d3e9e": {
          "model_module": "@jupyter-widgets/base",
          "model_name": "LayoutModel",
          "state": {
            "_view_name": "LayoutView",
            "grid_template_rows": null,
            "right": null,
            "justify_content": null,
            "_view_module": "@jupyter-widgets/base",
            "overflow": null,
            "_model_module_version": "1.2.0",
            "_view_count": null,
            "flex_flow": null,
            "width": null,
            "min_width": null,
            "border": null,
            "align_items": null,
            "bottom": null,
            "_model_module": "@jupyter-widgets/base",
            "top": null,
            "grid_column": null,
            "overflow_y": null,
            "overflow_x": null,
            "grid_auto_flow": null,
            "grid_area": null,
            "grid_template_columns": null,
            "flex": null,
            "_model_name": "LayoutModel",
            "justify_items": null,
            "grid_row": null,
            "max_height": null,
            "align_content": null,
            "visibility": null,
            "align_self": null,
            "height": null,
            "min_height": null,
            "padding": null,
            "grid_auto_rows": null,
            "grid_gap": null,
            "max_width": null,
            "order": null,
            "_view_module_version": "1.2.0",
            "grid_template_areas": null,
            "object_position": null,
            "object_fit": null,
            "grid_auto_columns": null,
            "margin": null,
            "display": null,
            "left": null
          }
        },
        "d0dae3486ab14a97b36a56e951a6e874": {
          "model_module": "@jupyter-widgets/controls",
          "model_name": "IntSliderModel",
          "state": {
            "_view_name": "IntSliderView",
            "style": "IPY_MODEL_c5e194092c7940b1b88e4ff255860a38",
            "_dom_classes": [],
            "description": "produkcja_f1_slider",
            "step": 1,
            "_model_name": "IntSliderModel",
            "orientation": "horizontal",
            "max": 20,
            "_view_module": "@jupyter-widgets/controls",
            "_model_module_version": "1.5.0",
            "value": 2,
            "_view_count": null,
            "disabled": false,
            "_view_module_version": "1.5.0",
            "min": 0,
            "continuous_update": true,
            "readout_format": "d",
            "description_tooltip": null,
            "readout": true,
            "_model_module": "@jupyter-widgets/controls",
            "layout": "IPY_MODEL_c8f37aa8930249828a77527cd52d8c53"
          }
        },
        "127391b28b054cd2a766ce39372768bf": {
          "model_module": "@jupyter-widgets/controls",
          "model_name": "IntSliderModel",
          "state": {
            "_view_name": "IntSliderView",
            "style": "IPY_MODEL_317c19212e7343b2b75bbae5a53c0cb4",
            "_dom_classes": [],
            "description": "produkcja_f2_slider",
            "step": 1,
            "_model_name": "IntSliderModel",
            "orientation": "horizontal",
            "max": 20,
            "_view_module": "@jupyter-widgets/controls",
            "_model_module_version": "1.5.0",
            "value": 12,
            "_view_count": null,
            "disabled": false,
            "_view_module_version": "1.5.0",
            "min": 0,
            "continuous_update": true,
            "readout_format": "d",
            "description_tooltip": null,
            "readout": true,
            "_model_module": "@jupyter-widgets/controls",
            "layout": "IPY_MODEL_99c7338ba29f466c8a58399e08bbd4bc"
          }
        },
        "8a94a569680a48b181462fc068b5e4b3": {
          "model_module": "@jupyter-widgets/controls",
          "model_name": "IntSliderModel",
          "state": {
            "_view_name": "IntSliderView",
            "style": "IPY_MODEL_b40ec6dbda1543f78ddee59850a9fc08",
            "_dom_classes": [],
            "description": "produkcja_f3_slider",
            "step": 1,
            "_model_name": "IntSliderModel",
            "orientation": "horizontal",
            "max": 20,
            "_view_module": "@jupyter-widgets/controls",
            "_model_module_version": "1.5.0",
            "value": 18,
            "_view_count": null,
            "disabled": false,
            "_view_module_version": "1.5.0",
            "min": 0,
            "continuous_update": true,
            "readout_format": "d",
            "description_tooltip": null,
            "readout": true,
            "_model_module": "@jupyter-widgets/controls",
            "layout": "IPY_MODEL_af5640685291445585520ddcd6655dc6"
          }
        },
        "91859c32646f45e1bcb2e5ed5201e24a": {
          "model_module": "@jupyter-widgets/controls",
          "model_name": "IntSliderModel",
          "state": {
            "_view_name": "IntSliderView",
            "style": "IPY_MODEL_bc5ec380f3be427d8900616f1cdf3395",
            "_dom_classes": [],
            "description": "Zysk_z_aluminiowych_okien",
            "step": 1,
            "_model_name": "IntSliderModel",
            "orientation": "horizontal",
            "max": 10000,
            "_view_module": "@jupyter-widgets/controls",
            "_model_module_version": "1.5.0",
            "value": 3000,
            "_view_count": null,
            "disabled": false,
            "_view_module_version": "1.5.0",
            "min": 0,
            "continuous_update": true,
            "readout_format": "d",
            "description_tooltip": null,
            "readout": true,
            "_model_module": "@jupyter-widgets/controls",
            "layout": "IPY_MODEL_bf2a786c2e8347c2bac55e4c6b62883b"
          }
        },
        "7f11aec80ef84ab5b1b71e0f32e903c2": {
          "model_module": "@jupyter-widgets/controls",
          "model_name": "IntSliderModel",
          "state": {
            "_view_name": "IntSliderView",
            "style": "IPY_MODEL_4a1d55e85a8d4ec0b7d126de16090b66",
            "_dom_classes": [],
            "description": "Zysk_z_drewnianych_okien",
            "step": 1,
            "_model_name": "IntSliderModel",
            "orientation": "horizontal",
            "max": 10000,
            "_view_module": "@jupyter-widgets/controls",
            "_model_module_version": "1.5.0",
            "value": 5000,
            "_view_count": null,
            "disabled": false,
            "_view_module_version": "1.5.0",
            "min": 0,
            "continuous_update": true,
            "readout_format": "d",
            "description_tooltip": null,
            "readout": true,
            "_model_module": "@jupyter-widgets/controls",
            "layout": "IPY_MODEL_5fbba6122dc04fd287fb8644349a753f"
          }
        },
        "c18ee277299d439d82f676839665bc76": {
          "model_module": "@jupyter-widgets/output",
          "model_name": "OutputModel",
          "state": {
            "_view_name": "OutputView",
            "msg_id": "",
            "_dom_classes": [],
            "_model_name": "OutputModel",
            "outputs": [
              {
                "output_type": "stream",
                "metadata": {
                  "tags": []
                },
                "text": "Status: Optimal\nProfile_aluminiowe = 2.0\nProfile_drewniane = 6.0\nZysk wyniesie 36000.0 zł  \n**********Shadow Prices**********\n                                   name  shadow price  slack\n0  ilość_partii_wyprodukowanej_przez_F1        3000.0   -0.0\n1  ilość_partii_wyprodukowanej_przez_F2        2500.0   -0.0\n2  ilość_partii_wyprodukowanej_przez_F3          -0.0   -0.0\n",
                "stream": "stdout"
              },
              {
                "output_type": "stream",
                "metadata": {
                  "tags": []
                },
                "text": "/usr/local/lib/python3.6/dist-packages/pulp/pulp.py:1199: UserWarning: Spaces are not permitted in the name. Converted to '_'\n  warnings.warn(\"Spaces are not permitted in the name. Converted to '_'\")\n",
                "stream": "stderr"
              }
            ],
            "_view_module": "@jupyter-widgets/output",
            "_model_module_version": "1.0.0",
            "_view_count": null,
            "_view_module_version": "1.0.0",
            "layout": "IPY_MODEL_03a36e79ee1d4f4e9f1228df40a7461f",
            "_model_module": "@jupyter-widgets/output"
          }
        },
        "c5e194092c7940b1b88e4ff255860a38": {
          "model_module": "@jupyter-widgets/controls",
          "model_name": "SliderStyleModel",
          "state": {
            "_view_name": "StyleView",
            "handle_color": null,
            "_model_name": "SliderStyleModel",
            "description_width": "initial",
            "_view_module": "@jupyter-widgets/base",
            "_model_module_version": "1.5.0",
            "_view_count": null,
            "_view_module_version": "1.2.0",
            "_model_module": "@jupyter-widgets/controls"
          }
        },
        "c8f37aa8930249828a77527cd52d8c53": {
          "model_module": "@jupyter-widgets/base",
          "model_name": "LayoutModel",
          "state": {
            "_view_name": "LayoutView",
            "grid_template_rows": null,
            "right": null,
            "justify_content": null,
            "_view_module": "@jupyter-widgets/base",
            "overflow": null,
            "_model_module_version": "1.2.0",
            "_view_count": null,
            "flex_flow": null,
            "width": null,
            "min_width": null,
            "border": null,
            "align_items": null,
            "bottom": null,
            "_model_module": "@jupyter-widgets/base",
            "top": null,
            "grid_column": null,
            "overflow_y": null,
            "overflow_x": null,
            "grid_auto_flow": null,
            "grid_area": null,
            "grid_template_columns": null,
            "flex": null,
            "_model_name": "LayoutModel",
            "justify_items": null,
            "grid_row": null,
            "max_height": null,
            "align_content": null,
            "visibility": null,
            "align_self": null,
            "height": null,
            "min_height": null,
            "padding": null,
            "grid_auto_rows": null,
            "grid_gap": null,
            "max_width": null,
            "order": null,
            "_view_module_version": "1.2.0",
            "grid_template_areas": null,
            "object_position": null,
            "object_fit": null,
            "grid_auto_columns": null,
            "margin": null,
            "display": null,
            "left": null
          }
        },
        "317c19212e7343b2b75bbae5a53c0cb4": {
          "model_module": "@jupyter-widgets/controls",
          "model_name": "SliderStyleModel",
          "state": {
            "_view_name": "StyleView",
            "handle_color": null,
            "_model_name": "SliderStyleModel",
            "description_width": "initial",
            "_view_module": "@jupyter-widgets/base",
            "_model_module_version": "1.5.0",
            "_view_count": null,
            "_view_module_version": "1.2.0",
            "_model_module": "@jupyter-widgets/controls"
          }
        },
        "99c7338ba29f466c8a58399e08bbd4bc": {
          "model_module": "@jupyter-widgets/base",
          "model_name": "LayoutModel",
          "state": {
            "_view_name": "LayoutView",
            "grid_template_rows": null,
            "right": null,
            "justify_content": null,
            "_view_module": "@jupyter-widgets/base",
            "overflow": null,
            "_model_module_version": "1.2.0",
            "_view_count": null,
            "flex_flow": null,
            "width": null,
            "min_width": null,
            "border": null,
            "align_items": null,
            "bottom": null,
            "_model_module": "@jupyter-widgets/base",
            "top": null,
            "grid_column": null,
            "overflow_y": null,
            "overflow_x": null,
            "grid_auto_flow": null,
            "grid_area": null,
            "grid_template_columns": null,
            "flex": null,
            "_model_name": "LayoutModel",
            "justify_items": null,
            "grid_row": null,
            "max_height": null,
            "align_content": null,
            "visibility": null,
            "align_self": null,
            "height": null,
            "min_height": null,
            "padding": null,
            "grid_auto_rows": null,
            "grid_gap": null,
            "max_width": null,
            "order": null,
            "_view_module_version": "1.2.0",
            "grid_template_areas": null,
            "object_position": null,
            "object_fit": null,
            "grid_auto_columns": null,
            "margin": null,
            "display": null,
            "left": null
          }
        },
        "b40ec6dbda1543f78ddee59850a9fc08": {
          "model_module": "@jupyter-widgets/controls",
          "model_name": "SliderStyleModel",
          "state": {
            "_view_name": "StyleView",
            "handle_color": null,
            "_model_name": "SliderStyleModel",
            "description_width": "initial",
            "_view_module": "@jupyter-widgets/base",
            "_model_module_version": "1.5.0",
            "_view_count": null,
            "_view_module_version": "1.2.0",
            "_model_module": "@jupyter-widgets/controls"
          }
        },
        "af5640685291445585520ddcd6655dc6": {
          "model_module": "@jupyter-widgets/base",
          "model_name": "LayoutModel",
          "state": {
            "_view_name": "LayoutView",
            "grid_template_rows": null,
            "right": null,
            "justify_content": null,
            "_view_module": "@jupyter-widgets/base",
            "overflow": null,
            "_model_module_version": "1.2.0",
            "_view_count": null,
            "flex_flow": null,
            "width": null,
            "min_width": null,
            "border": null,
            "align_items": null,
            "bottom": null,
            "_model_module": "@jupyter-widgets/base",
            "top": null,
            "grid_column": null,
            "overflow_y": null,
            "overflow_x": null,
            "grid_auto_flow": null,
            "grid_area": null,
            "grid_template_columns": null,
            "flex": null,
            "_model_name": "LayoutModel",
            "justify_items": null,
            "grid_row": null,
            "max_height": null,
            "align_content": null,
            "visibility": null,
            "align_self": null,
            "height": null,
            "min_height": null,
            "padding": null,
            "grid_auto_rows": null,
            "grid_gap": null,
            "max_width": null,
            "order": null,
            "_view_module_version": "1.2.0",
            "grid_template_areas": null,
            "object_position": null,
            "object_fit": null,
            "grid_auto_columns": null,
            "margin": null,
            "display": null,
            "left": null
          }
        },
        "bc5ec380f3be427d8900616f1cdf3395": {
          "model_module": "@jupyter-widgets/controls",
          "model_name": "SliderStyleModel",
          "state": {
            "_view_name": "StyleView",
            "handle_color": null,
            "_model_name": "SliderStyleModel",
            "description_width": "initial",
            "_view_module": "@jupyter-widgets/base",
            "_model_module_version": "1.5.0",
            "_view_count": null,
            "_view_module_version": "1.2.0",
            "_model_module": "@jupyter-widgets/controls"
          }
        },
        "bf2a786c2e8347c2bac55e4c6b62883b": {
          "model_module": "@jupyter-widgets/base",
          "model_name": "LayoutModel",
          "state": {
            "_view_name": "LayoutView",
            "grid_template_rows": null,
            "right": null,
            "justify_content": null,
            "_view_module": "@jupyter-widgets/base",
            "overflow": null,
            "_model_module_version": "1.2.0",
            "_view_count": null,
            "flex_flow": null,
            "width": null,
            "min_width": null,
            "border": null,
            "align_items": null,
            "bottom": null,
            "_model_module": "@jupyter-widgets/base",
            "top": null,
            "grid_column": null,
            "overflow_y": null,
            "overflow_x": null,
            "grid_auto_flow": null,
            "grid_area": null,
            "grid_template_columns": null,
            "flex": null,
            "_model_name": "LayoutModel",
            "justify_items": null,
            "grid_row": null,
            "max_height": null,
            "align_content": null,
            "visibility": null,
            "align_self": null,
            "height": null,
            "min_height": null,
            "padding": null,
            "grid_auto_rows": null,
            "grid_gap": null,
            "max_width": null,
            "order": null,
            "_view_module_version": "1.2.0",
            "grid_template_areas": null,
            "object_position": null,
            "object_fit": null,
            "grid_auto_columns": null,
            "margin": null,
            "display": null,
            "left": null
          }
        },
        "4a1d55e85a8d4ec0b7d126de16090b66": {
          "model_module": "@jupyter-widgets/controls",
          "model_name": "SliderStyleModel",
          "state": {
            "_view_name": "StyleView",
            "handle_color": null,
            "_model_name": "SliderStyleModel",
            "description_width": "initial",
            "_view_module": "@jupyter-widgets/base",
            "_model_module_version": "1.5.0",
            "_view_count": null,
            "_view_module_version": "1.2.0",
            "_model_module": "@jupyter-widgets/controls"
          }
        },
        "5fbba6122dc04fd287fb8644349a753f": {
          "model_module": "@jupyter-widgets/base",
          "model_name": "LayoutModel",
          "state": {
            "_view_name": "LayoutView",
            "grid_template_rows": null,
            "right": null,
            "justify_content": null,
            "_view_module": "@jupyter-widgets/base",
            "overflow": null,
            "_model_module_version": "1.2.0",
            "_view_count": null,
            "flex_flow": null,
            "width": null,
            "min_width": null,
            "border": null,
            "align_items": null,
            "bottom": null,
            "_model_module": "@jupyter-widgets/base",
            "top": null,
            "grid_column": null,
            "overflow_y": null,
            "overflow_x": null,
            "grid_auto_flow": null,
            "grid_area": null,
            "grid_template_columns": null,
            "flex": null,
            "_model_name": "LayoutModel",
            "justify_items": null,
            "grid_row": null,
            "max_height": null,
            "align_content": null,
            "visibility": null,
            "align_self": null,
            "height": null,
            "min_height": null,
            "padding": null,
            "grid_auto_rows": null,
            "grid_gap": null,
            "max_width": null,
            "order": null,
            "_view_module_version": "1.2.0",
            "grid_template_areas": null,
            "object_position": null,
            "object_fit": null,
            "grid_auto_columns": null,
            "margin": null,
            "display": null,
            "left": null
          }
        },
        "03a36e79ee1d4f4e9f1228df40a7461f": {
          "model_module": "@jupyter-widgets/base",
          "model_name": "LayoutModel",
          "state": {
            "_view_name": "LayoutView",
            "grid_template_rows": null,
            "right": null,
            "justify_content": null,
            "_view_module": "@jupyter-widgets/base",
            "overflow": null,
            "_model_module_version": "1.2.0",
            "_view_count": null,
            "flex_flow": null,
            "width": null,
            "min_width": null,
            "border": null,
            "align_items": null,
            "bottom": null,
            "_model_module": "@jupyter-widgets/base",
            "top": null,
            "grid_column": null,
            "overflow_y": null,
            "overflow_x": null,
            "grid_auto_flow": null,
            "grid_area": null,
            "grid_template_columns": null,
            "flex": null,
            "_model_name": "LayoutModel",
            "justify_items": null,
            "grid_row": null,
            "max_height": null,
            "align_content": null,
            "visibility": null,
            "align_self": null,
            "height": null,
            "min_height": null,
            "padding": null,
            "grid_auto_rows": null,
            "grid_gap": null,
            "max_width": null,
            "order": null,
            "_view_module_version": "1.2.0",
            "grid_template_areas": null,
            "object_position": null,
            "object_fit": null,
            "grid_auto_columns": null,
            "margin": null,
            "display": null,
            "left": null
          }
        }
      }
    }
  },
  "cells": [
    {
      "cell_type": "code",
      "metadata": {
        "colab": {
          "base_uri": "https://localhost:8080/"
        },
        "id": "9ZA0bmiz_JBl",
        "outputId": "e7834c50-4499-4d65-e42d-f62f6817b6c8"
      },
      "source": [
        "!pip install pulp\r\n",
        "\r\n",
        "!sudo apt-get install coinor-cbc glpk-utils coinor-clp"
      ],
      "execution_count": null,
      "outputs": [
        {
          "output_type": "stream",
          "text": [
            "Requirement already satisfied: pulp in /usr/local/lib/python3.6/dist-packages (2.4)\n",
            "Requirement already satisfied: amply>=0.1.2 in /usr/local/lib/python3.6/dist-packages (from pulp) (0.1.4)\n",
            "Requirement already satisfied: pyparsing in /usr/local/lib/python3.6/dist-packages (from amply>=0.1.2->pulp) (2.4.7)\n",
            "Requirement already satisfied: docutils>=0.3 in /usr/local/lib/python3.6/dist-packages (from amply>=0.1.2->pulp) (0.16)\n",
            "Reading package lists... Done\n",
            "Building dependency tree       \n",
            "Reading state information... Done\n",
            "coinor-cbc is already the newest version (2.9.9+repack1-1).\n",
            "coinor-clp is already the newest version (1.16.11+repack1-1).\n",
            "glpk-utils is already the newest version (4.65-1).\n",
            "0 upgraded, 0 newly installed, 0 to remove and 15 not upgraded.\n"
          ],
          "name": "stdout"
        }
      ]
    },
    {
      "cell_type": "code",
      "metadata": {
        "id": "ERNXjl7h_J9U"
      },
      "source": [
        "# Import PuLP modeler functions\r\n",
        "from pulp import *"
      ],
      "execution_count": null,
      "outputs": []
    },
    {
      "cell_type": "markdown",
      "metadata": {
        "id": "SFCLaeM-_k0A"
      },
      "source": [
        "Zadanie przedstawia 3 fabryki, które produkują okna drewniane oraz aluminiowe. Okna drewniane są droższe, gdyż kosztują 5000, natomiast aluminiowe tańsze o 2 tysiące. Każda z nich ma określoną liczbę godzin dostępności w tygodniu oraz określony jest parametr czasu produkcji, każdego z dwóch rodzaji dla każdej fabryki, lecz nie każda produkuje wszystkie. Zestawienie danych w tabeli:\r\n",
        "\r\n",
        "||Czas produkcji profilu aluminiowego|Czas produkcji profilu drewnianego|ilość godzin dostępna w tygodniu|\r\n",
        "|--|--|--|--|\r\n",
        "|Fabryka 1|1|-|4|\r\n",
        "|Fabryka 2|-|2|12|\r\n",
        "|Fabryka 3|3|2|18|\r\n",
        "\r\n",
        "Zysk z produkcji:\r\n",
        "* profile aluminiowe 3000\r\n",
        "* profile drewniane  5000\r\n",
        "\r\n",
        "\r\n",
        "Zadanie 1: Znaleźć maksymalny zysk tygodniowy przy podanej wydajności każdej fabryki, gdzie ograniczeniem jest  czas. Liczba partii nie została określona. Jest pełna dowolność.\r\n",
        "\r\n"
      ]
    },
    {
      "cell_type": "code",
      "metadata": {
        "id": "KaSolc1-w2pc",
        "colab": {
          "base_uri": "https://localhost:8080/"
        },
        "outputId": "2c38598d-d0ab-442a-ac13-05b1d5cac8c5"
      },
      "source": [
        "prob = LpProblem(\"Najlepsza produkcja HURT\", LpMaximize)\r\n",
        "\r\n",
        "profile_alu = LpVariable(\"Profile aluminiowe\", 0) # juz tutaj podajemy ograniczenie ze sa nieujemne\r\n",
        "profile_drew = LpVariable(\"Profile drewniane\", 0)\r\n",
        "\r\n",
        "produkcja_f1 = LpVariable(\"produkcja fabryki 1\", 0)\r\n",
        "produkcja_f2 = LpVariable(\"produkcja fabryki 2\", 0)\r\n",
        "produkcja_f3 = LpVariable(\"produkcja fabryki 3\", 0)\r\n",
        "\r\n",
        "prob += 3000 * profile_alu + 5000 * profile_drew \r\n",
        "prob += 1 * profile_alu == produkcja_f1,  \"ilość partii wyprodukowanej przez F1\"\r\n",
        "prob += 2 * profile_drew == produkcja_f2, \"ilość partii wyprodukowanej przez F2\"\r\n",
        "prob += 3 * profile_alu + 2 * profile_drew  == produkcja_f3, \"ilość partii wyprodukowanej przez F3\"\r\n",
        "prob += produkcja_f1 <= 4,  \"Maksymalny czas produkcji fabryki 1\"\r\n",
        "prob += produkcja_f2 <= 12, \"Maksymalny czas produkcji fabryki 2\"\r\n",
        "prob += produkcja_f3 <= 18, \"Maksymalny czas produkcji fabryki 3\"\r\n",
        "\r\n",
        "prob.solve()\r\n",
        "# The status of the solution is printed to the screen\r\n",
        "print(\"Status:\", LpStatus[prob.status])\r\n",
        "# Each of the variables is printed with it's resolved optimum value\r\n",
        "for v in prob.variables():\r\n",
        "    print(v.name, \"=\", v.varValue)\r\n",
        "print(\"Zysk wyniesie {} zl \".format(value(prob.objective)))"
      ],
      "execution_count": null,
      "outputs": [
        {
          "output_type": "stream",
          "text": [
            "Status: Optimal\n",
            "Profile_aluminiowe = 2.0\n",
            "Profile_drewniane = 6.0\n",
            "produkcja_fabryki_1 = 2.0\n",
            "produkcja_fabryki_2 = 12.0\n",
            "produkcja_fabryki_3 = 18.0\n",
            "Zysk wyniesie 36000.0 zl \n"
          ],
          "name": "stdout"
        },
        {
          "output_type": "stream",
          "text": [
            "/usr/local/lib/python3.6/dist-packages/pulp/pulp.py:1199: UserWarning: Spaces are not permitted in the name. Converted to '_'\n",
            "  warnings.warn(\"Spaces are not permitted in the name. Converted to '_'\")\n"
          ],
          "name": "stderr"
        }
      ]
    },
    {
      "cell_type": "markdown",
      "metadata": {
        "id": "MtDQ5cVUBITr"
      },
      "source": [
        "Wynik funkcji celu nie jest satysfakcjonujący, gdyż nie wykorzystał w pełni możliwości fabryki 1. Z tego względu można eykorzystać panel interaktywny do korygowania ilości partii wykorzystując suwaki."
      ]
    },
    {
      "cell_type": "code",
      "metadata": {
        "colab": {
          "base_uri": "https://localhost:8080/"
        },
        "id": "1PdwpLAHBDTT",
        "outputId": "db6bc526-628b-4488-81db-e87f7add8db2"
      },
      "source": [
        "?? interact"
      ],
      "execution_count": null,
      "outputs": [
        {
          "output_type": "stream",
          "text": [
            "Object `interact` not found.\n"
          ],
          "name": "stdout"
        }
      ]
    },
    {
      "cell_type": "code",
      "metadata": {
        "colab": {
          "base_uri": "https://localhost:8080/",
          "height": 398,
          "referenced_widgets": [
            "a1dabe17203b4f29a604ee2412e0e1d4",
            "1f9712bbae2c478da2feee7a3b7d3e9e",
            "d0dae3486ab14a97b36a56e951a6e874",
            "127391b28b054cd2a766ce39372768bf",
            "8a94a569680a48b181462fc068b5e4b3",
            "91859c32646f45e1bcb2e5ed5201e24a",
            "7f11aec80ef84ab5b1b71e0f32e903c2",
            "c18ee277299d439d82f676839665bc76",
            "c5e194092c7940b1b88e4ff255860a38",
            "c8f37aa8930249828a77527cd52d8c53",
            "317c19212e7343b2b75bbae5a53c0cb4",
            "99c7338ba29f466c8a58399e08bbd4bc",
            "b40ec6dbda1543f78ddee59850a9fc08",
            "af5640685291445585520ddcd6655dc6",
            "bc5ec380f3be427d8900616f1cdf3395",
            "bf2a786c2e8347c2bac55e4c6b62883b",
            "4a1d55e85a8d4ec0b7d126de16090b66",
            "5fbba6122dc04fd287fb8644349a753f",
            "03a36e79ee1d4f4e9f1228df40a7461f"
          ]
        },
        "id": "TymDneIyGSFZ",
        "outputId": "db99c6b3-e557-42d8-e68f-5f8d9bb82082"
      },
      "source": [
        "from pulp import *\r\n",
        "from __future__ import print_function\r\n",
        "from ipywidgets import interact, interactive, fixed, interact_manual, Layout, FloatSlider, IntSlider\r\n",
        "import ipywidgets as widgets\r\n",
        "import pandas as pd\r\n",
        "\r\n",
        "style = {'description_width': 'initial'}\r\n",
        "\r\n",
        "\r\n",
        "produkcja_f1_slider = IntSlider(min=0,max = 20, value= 2, description=\"produkcja_f1_slider\", style= style )\r\n",
        "produkcja_f2_slider = IntSlider(min=0,max = 20,value= 12, description=\"produkcja_f2_slider\", style= style )\r\n",
        "produkcja_f3_slider = IntSlider(min=0,max = 20, value= 18, description=\"produkcja_f3_slider\", style= style )\r\n",
        "zysk_alu_slider = IntSlider(min=0,max = 10000, value= 3000, description=\"Zysk_z_aluminiowych_okien\", style= style )\r\n",
        "zysk_drew_slider = IntSlider(min=0,max = 10000, value= 5000, description=\"Zysk_z_drewnianych_okien\", style= style )\r\n",
        "\r\n",
        "\r\n",
        "\r\n",
        "def hurt_produkcja(\r\n",
        "    produkcja_f1 = 4,\r\n",
        "    produkcja_f2 = 12,\r\n",
        "    produkcja_f3 = 18,      \r\n",
        "    zysk_alu = 3000,\r\n",
        "    zysk_drew = 5000):\r\n",
        "  \r\n",
        "  prob = LpProblem(\"Najlepsza produkcja HURT\",LpMaximize)\r\n",
        "\r\n",
        "  profile_alu = LpVariable(\"Profile aluminiowe\", 0) # juz tutaj podajemy ograniczenie ze sa nieujemne\r\n",
        "  profile_drew = LpVariable(\"Profile drewniane\", 0)\r\n",
        "\r\n",
        "  prob += zysk_alu * profile_alu + zysk_drew * profile_drew, \"zysk z produkcji\" \r\n",
        "  prob += 1 * profile_alu <= produkcja_f1,  \"ilość partii wyprodukowanej przez F1\"\r\n",
        "  prob += 2 * profile_drew <= produkcja_f2, \"ilość partii wyprodukowanej przez F2\"\r\n",
        "  prob += 3 * profile_alu + 2 * profile_drew  <= produkcja_f3, \"ilość partii wyprodukowanej przez F3\"\r\n",
        "\r\n",
        "  \r\n",
        "  prob.solve()\r\n",
        "  print(\"Status:\", LpStatus[prob.status])\r\n",
        "    # The status of the solution is printed to the screen\r\n",
        "   \r\n",
        "    # Each of the variables is printed with it's resolved optimum value\r\n",
        "  for v in prob.variables():\r\n",
        "      print(v.name, \"=\", v.varValue)\r\n",
        "  print(\"Zysk wyniesie {} zł  \".format( value(prob.objective)))\r\n",
        "    \r\n",
        "  shadows = [{'name':name, 'shadow price': c.pi, \"slack\": c.slack} for name, c in prob.constraints.items()]\r\n",
        "  print(\"*\"*10+\"Shadow Prices\"+\"*\"*10)\r\n",
        "  print(pd.DataFrame(shadows))\r\n",
        "    \r\n",
        "    \r\n",
        "interact(hurt_produkcja,\r\n",
        "    zysk_alu= zysk_alu_slider,\r\n",
        "    zysk_drew = zysk_drew_slider,\r\n",
        "    produkcja_f1 = produkcja_f1_slider,\r\n",
        "    produkcja_f2 = produkcja_f2_slider,\r\n",
        "    produkcja_f3 = produkcja_f3_slider)\r\n"
      ],
      "execution_count": null,
      "outputs": [
        {
          "output_type": "display_data",
          "data": {
            "application/vnd.jupyter.widget-view+json": {
              "model_id": "a1dabe17203b4f29a604ee2412e0e1d4",
              "version_minor": 0,
              "version_major": 2
            },
            "text/plain": [
              "interactive(children=(IntSlider(value=2, description='produkcja_f1_slider', max=20, style=SliderStyle(descript…"
            ]
          },
          "metadata": {
            "tags": []
          }
        },
        {
          "output_type": "execute_result",
          "data": {
            "text/plain": [
              "<function __main__.hurt_produkcja>"
            ]
          },
          "metadata": {
            "tags": []
          },
          "execution_count": 23
        }
      ]
    }
  ]
}