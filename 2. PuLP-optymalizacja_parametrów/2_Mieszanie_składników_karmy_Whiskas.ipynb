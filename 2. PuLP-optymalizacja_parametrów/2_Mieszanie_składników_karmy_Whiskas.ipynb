{
  "nbformat": 4,
  "nbformat_minor": 0,
  "metadata": {
    "colab": {
      "name": "Whiskas problem.ipynb",
      "provenance": [],
      "collapsed_sections": []
    },
    "kernelspec": {
      "name": "python3",
      "display_name": "Python 3"
    }
  },
  "cells": [
    {
      "cell_type": "code",
      "metadata": {
        "id": "OpWx7Aw8EWbD"
      },
      "source": [
        "!pip install pulp\n",
        "\n",
        "!sudo apt-get install coinor-cbc glpk-utils coinor-clp"
      ],
      "execution_count": null,
      "outputs": []
    },
    {
      "cell_type": "code",
      "metadata": {
        "id": "vKTxZeVZzHL2"
      },
      "source": [
        "# Import PuLP modeler functions\r\n",
        "from pulp import *"
      ],
      "execution_count": null,
      "outputs": []
    },
    {
      "cell_type": "code",
      "metadata": {
        "id": "aDoreqhtEgSv"
      },
      "source": [
        "pulp.pulpTestAll()"
      ],
      "execution_count": null,
      "outputs": []
    },
    {
      "cell_type": "markdown",
      "metadata": {
        "id": "tFkQFwnjFgNu"
      },
      "source": [
        "italicized text# Zadania:\n",
        "\n",
        "przeczytaj materiały dotyczące pulp ze strony internetowej https://coin-or.github.io/pulp/main/index.html oraz przejdź przez blending problem (przepisz do swojego notebooka)\n",
        "\n",
        "w blending problem dodaj zmienną decyzyjną. Stwórz zmienną która pojawi się w końcowym składzie produktu (tj. wartość zmiennej będzie miała niezerową postać)\n",
        "\n",
        "Dodaj ograniczenie co do zawartości witaminy B\n",
        "\n",
        "Zawartość:\n",
        "\n",
        "Nazwa\tzawartość ug/100g\n",
        "chicken\t0.3\n",
        "beef\t2.6\n",
        "mutton\t2.6\n",
        "rice\t0\n",
        "wheat bran\t0\n",
        "gel\t0\n",
        "sardines\t8.9\n",
        "Kot ma zjeść minimum 0.24 ug na kilogram masy więc około 0.8 ug dziennie\n",
        "\n",
        "Na końcu ma pojawiać się zdanie podsumowujące wynik, w stylu: Końcowy produkt będzie kosztować {}, będzie miał w składzie {nazwa}: {} %, {nastepna nazwa}: {} %\n",
        "Takie zdanie można skleić z części generowanych automatycznie:"
      ]
    },
    {
      "cell_type": "code",
      "metadata": {
        "colab": {
          "base_uri": "https://localhost:8080/"
        },
        "id": "a3K6eqeop8NC",
        "outputId": "b4d1d0fb-eb4d-4ec0-f838-72589dbd656d"
      },
      "source": [
        "#simplified solve problem\r\n",
        "# Create the 'prob' variable to contain the problem data\r\n",
        "prob = LpProblem(\"The Whiskas Problem\",LpMinimize)\r\n",
        "# The 2 variables Beef and Chicken are created with a lower limit of zero\r\n",
        "x1=LpVariable(\"ChickenPercent\",0,None,LpInteger)\r\n",
        "x2=LpVariable(\"BeefPercent\",0)\r\n",
        "# The objective function is added to 'prob' first\r\n",
        "prob += 0.013*x1 + 0.008*x2, \"Total Cost of Ingredients per can\"\r\n",
        "# The five constraints are entered\r\n",
        "prob += x1 + x2 == 100, \"PercentagesSum\"\r\n",
        "prob += 0.100*x1 + 0.200*x2 >= 8.0, \"ProteinRequirement\"\r\n",
        "prob += 0.080*x1 + 0.100*x2 >= 6.0, \"FatRequirement\"\r\n",
        "prob += 0.001*x1 + 0.005*x2 <= 2.0, \"FibreRequirement\"\r\n",
        "prob += 0.002*x1 + 0.005*x2 <= 0.4, \"SaltRequirement\"\r\n",
        "# The problem data is written to an .lp file\r\n",
        "prob.writeLP(\"WhiskasModel.lp\")\r\n",
        "# The problem is solved using PuLP's choice of Solver\r\n",
        "prob.solve()\r\n",
        "print(\"Status:\", LpStatus[prob.status])\r\n",
        "for v in prob.variables():\r\n",
        "    print(v.name, \"=\", v.varValue)\r\n",
        "print(\"Total Cost of Ingredients per can = \", value(prob.objective))"
      ],
      "execution_count": null,
      "outputs": [
        {
          "output_type": "stream",
          "text": [
            "Status: Optimal\n",
            "BeefPercent = 66.0\n",
            "ChickenPercent = 34.0\n",
            "Total Cost of Ingredients per can =  0.97\n"
          ],
          "name": "stdout"
        },
        {
          "output_type": "stream",
          "text": [
            "/usr/local/lib/python3.6/dist-packages/pulp/pulp.py:1199: UserWarning: Spaces are not permitted in the name. Converted to '_'\n",
            "  warnings.warn(\"Spaces are not permitted in the name. Converted to '_'\")\n"
          ],
          "name": "stderr"
        }
      ]
    },
    {
      "cell_type": "code",
      "metadata": {
        "id": "jKLT_Tu0p2_I"
      },
      "source": [
        "#Full solve problem\r\n",
        "# Creates a list of the Ingredients\r\n",
        "Ingredients = ['CHICKEN', 'BEEF', 'MUTTON', 'RICE', 'WHEAT', 'GEL']\r\n",
        "\r\n",
        "# A dictionary of the costs of each of the Ingredients is created\r\n",
        "costs = {'CHICKEN': 0.013, \r\n",
        "         'BEEF': 0.008, \r\n",
        "         'MUTTON': 0.010, \r\n",
        "         'RICE': 0.002, \r\n",
        "         'WHEAT': 0.005, \r\n",
        "         'GEL': 0.001}\r\n",
        "\r\n",
        "# A dictionary of the protein percent in each of the Ingredients is created\r\n",
        "proteinPercent = {'CHICKEN': 0.100, \r\n",
        "                  'BEEF': 0.200, \r\n",
        "                  'MUTTON': 0.150, \r\n",
        "                  'RICE': 0.000, \r\n",
        "                  'WHEAT': 0.040, \r\n",
        "                  'GEL': 0.000}\r\n",
        "\r\n",
        "# A dictionary of the fat percent in each of the Ingredients is created\r\n",
        "fatPercent = {'CHICKEN': 0.080, \r\n",
        "              'BEEF': 0.100, \r\n",
        "              'MUTTON': 0.110, \r\n",
        "              'RICE': 0.010, \r\n",
        "              'WHEAT': 0.010, \r\n",
        "              'GEL': 0.000}\r\n",
        "\r\n",
        "# A dictionary of the fibre percent in each of the Ingredients is created\r\n",
        "fibrePercent = {'CHICKEN': 0.001, \r\n",
        "                'BEEF': 0.005, \r\n",
        "                'MUTTON': 0.003, \r\n",
        "                'RICE': 0.100, \r\n",
        "                'WHEAT': 0.150, \r\n",
        "                'GEL': 0.000}\r\n",
        "\r\n",
        "# A dictionary of the salt percent in each of the Ingredients is created\r\n",
        "saltPercent = {'CHICKEN': 0.002, \r\n",
        "               'BEEF': 0.005, \r\n",
        "               'MUTTON': 0.007, \r\n",
        "               'RICE': 0.002, \r\n",
        "               'WHEAT': 0.008, \r\n",
        "               'GEL': 0.000}\r\n",
        "# A dictionary of the vitamin B percent in each of the Ingredients is created\r\n",
        "vitB = {'CHICKEN': 0.0002, \r\n",
        "        'BEEF': 0.0005, \r\n",
        "        'MUTTON': 0.0007, \r\n",
        "        'RICE': 0.0002, \r\n",
        "        'WHEAT': 0.0008, \r\n",
        "        'GEL': 0.0000}"
      ],
      "execution_count": null,
      "outputs": []
    },
    {
      "cell_type": "code",
      "metadata": {
        "colab": {
          "base_uri": "https://localhost:8080/"
        },
        "id": "94wUbsbip6k-",
        "outputId": "81631afe-9eb9-4fb9-98a5-0056ce4fabdb"
      },
      "source": [
        "# Create the 'prob' variable to contain the problem data\r\n",
        "prob = LpProblem(\"The Whiskas Problem\", LpMinimize)\r\n",
        "\r\n",
        "# A dictionary called 'ingredient_vars' is created to contain the referenced Variables\r\n",
        "ingredient_vars = LpVariable.dicts(\"Ingr\",Ingredients,0)\r\n",
        "\r\n",
        "# The objective function is added to 'prob' first\r\n",
        "prob += lpSum([costs[i]*ingredient_vars[i] for i in Ingredients]), \"Total Cost of Ingredients per can\"\r\n",
        "\r\n",
        "\r\n",
        "# The five constraints are added to 'prob'\r\n",
        "prob += lpSum([ingredient_vars[i] for i in Ingredients]) == 100, \"PercentagesSum\"\r\n",
        "prob += lpSum([proteinPercent[i] * ingredient_vars[i] for i in Ingredients]) >= 8.0, \"ProteinRequirement\"\r\n",
        "prob += lpSum([fatPercent[i] * ingredient_vars[i] for i in Ingredients]) >= 6.0, \"FatRequirement\"\r\n",
        "prob += lpSum([fibrePercent[i] * ingredient_vars[i] for i in Ingredients]) <= 2.0, \"FibreRequirement\"\r\n",
        "prob += lpSum([saltPercent[i] * ingredient_vars[i] for i in Ingredients]) <= 0.4, \"SaltRequirement\"\r\n",
        "prob += lpSum([vitB[i] * ingredient_vars[i] for i in Ingredients]) <=0.04 , \"vitB\"\r\n",
        "# The problem data is written to an .lp file\r\n",
        "prob.writeLP(\"WhiskasModel.lp\")\r\n",
        "# The problem is solved using PuLP's choice of Solver\r\n",
        "prob.solve()\r\n",
        "print(\"Status:\", LpStatus[prob.status])\r\n",
        "for v in prob.variables():\r\n",
        "    print(v.name, \"=\", v.varValue)\r\n",
        "print(\"Total Cost of Ingredients per can = \", value(prob.objective))"
      ],
      "execution_count": null,
      "outputs": [
        {
          "output_type": "stream",
          "text": [
            "Status: Optimal\n",
            "Ingr_BEEF = 60.0\n",
            "Ingr_CHICKEN = 0.0\n",
            "Ingr_GEL = 40.0\n",
            "Ingr_MUTTON = 0.0\n",
            "Ingr_RICE = 0.0\n",
            "Ingr_WHEAT = 0.0\n",
            "Total Cost of Ingredients per can =  0.52\n"
          ],
          "name": "stdout"
        },
        {
          "output_type": "stream",
          "text": [
            "/usr/local/lib/python3.6/dist-packages/pulp/pulp.py:1199: UserWarning: Spaces are not permitted in the name. Converted to '_'\n",
            "  warnings.warn(\"Spaces are not permitted in the name. Converted to '_'\")\n"
          ],
          "name": "stderr"
        }
      ]
    },
    {
      "cell_type": "code",
      "metadata": {
        "id": "hOJ2wPVUEiSt"
      },
      "source": [
        ""
      ],
      "execution_count": null,
      "outputs": []
    }
  ]
}