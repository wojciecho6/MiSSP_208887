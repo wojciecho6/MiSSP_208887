{
  "nbformat": 4,
  "nbformat_minor": 0,
  "metadata": {
    "colab": {
      "name": "Funkcja kosztu pracowników.ipynb",
      "provenance": []
    },
    "kernelspec": {
      "name": "python3",
      "display_name": "Python 3"
    }
  },
  "cells": [
    {
      "cell_type": "code",
      "metadata": {
        "id": "iyQ-ML096r6C"
      },
      "source": [
        "!pip install pulp\n",
        "\n",
        "!sudo apt-get install coinor-cbc glpk-utils coinor-clp"
      ],
      "execution_count": null,
      "outputs": []
    },
    {
      "cell_type": "code",
      "metadata": {
        "id": "RBHF9ZDH62qN",
        "colab": {
          "base_uri": "https://localhost:8080/"
        },
        "outputId": "b60fcb8b-ee70-425d-b6fc-e7532fa2f8c7"
      },
      "source": [
        "import pulp\n",
        "\n",
        "print(pulp.__version__)"
      ],
      "execution_count": null,
      "outputs": [
        {
          "output_type": "stream",
          "text": [
            "2.3.1\n"
          ],
          "name": "stdout"
        }
      ]
    },
    {
      "cell_type": "code",
      "metadata": {
        "id": "yTgJ1TaL66J7"
      },
      "source": [
        "pulp.pulpTestAll()"
      ],
      "execution_count": null,
      "outputs": []
    },
    {
      "cell_type": "markdown",
      "metadata": {
        "id": "eYX4U2biZv5t"
      },
      "source": [
        "Zadanie przedstawia ustalenie korzystnego dla przedsiębiorcy doboru osób na poszczególne dni w tygodniu przy ustalonym zapotrzebowaniu. Parametry, którymi kieruje się przy ustaleniu ostatecznej wersji grafiku to:\r\n",
        "Zapotrzebowanie na ilość osób w danym tygodniu:\r\n",
        "---\r\n",
        "Poniedziałek – 2;\r\n",
        "---\r\n",
        "Wtorek, środa, czwartek - 1;\r\n",
        "---\r\n",
        "Piątek – 3;\r\n",
        "---\r\n",
        "Osoby do dyspozycji = stawka indywidulana zł/h +dzień w jaki może przyjść do pracy\r\n",
        "---\r\n",
        "Ania = 100 + każdy dzień\r\n",
        "---\r\n",
        "Stefan = 50 + poniedziałek\r\n",
        "---\r\n",
        "Hektor = 60 +poniedziałek, wtorek, środa\r\n",
        "---\r\n",
        "Olaf = 40 + każdy dzień\r\n",
        "---\r\n",
        "Lidia = 110 + czzwartek, piątek\r\n",
        "---\r\n",
        "Piotr = 70 + poniedziałek, wtorek, środa\r\n",
        "---\r\n",
        "Przy czym każda jedna osoba może przyjść maksymlanie 3 razy w tygodniu.\r\n",
        "\r\n",
        "Naszym zadaniem jest ustalić taki grafik, by spełniał założone kryteria i dodatkowo był najkorzystniejszy pod względem finansowym, czyli minimalizacja kosztów na wynagrodzenia.\r\n"
      ]
    },
    {
      "cell_type": "code",
      "metadata": {
        "id": "rRiFnmTr7ARE",
        "colab": {
          "base_uri": "https://localhost:8080/"
        },
        "outputId": "046893b6-1bcc-46cd-ddcc-342a4cdde274"
      },
      "source": [
        "from pulp import *\n",
        "\n",
        "prob = LpProblem(\"Minimum_salaries_for_workers\",LpMinimize)\n",
        "\n",
        "### Variables (name, Lo, Hi, Type) workers\n",
        "A_mon = LpVariable(\"Ania_pon\", 0, 1, LpInteger)\n",
        "A_tue = LpVariable(\"Ania_wt\", 0, 1, LpInteger)\n",
        "A_wed = LpVariable(\"Ania_sr\", 0, 1, LpInteger)\n",
        "A_thu = LpVariable(\"Ania_czw\", 0, 1, LpInteger)\n",
        "A_fri = LpVariable(\"Ania_pt\", 0, 1, LpInteger)\n",
        "S_mon = LpVariable(\"Stefan_pon\", 0, 1, LpInteger)\n",
        "S_tue = LpVariable(\"Stefan_wt\", 0, 1, LpInteger)\n",
        "S_wed = LpVariable(\"Stefan_sr\", 0, 1, LpInteger)\n",
        "S_thu = LpVariable(\"Stefan_czw\", 0, 1, LpInteger)\n",
        "S_fri = LpVariable(\"Stefan_pt\", 0, 1, LpInteger)\n",
        "H_mon = LpVariable(\"Hektor_pon\", 0, 1, LpInteger)\n",
        "H_tue = LpVariable(\"Hektor_wt\", 0, 1, LpInteger)\n",
        "H_wed = LpVariable(\"Hektor_sr\", 0, 1, LpInteger)\n",
        "H_thu = LpVariable(\"Hektor_czw\", 0, 1, LpInteger)\n",
        "H_fri = LpVariable(\"Hektor_pt\", 0, 1, LpInteger)\n",
        "O_mon = LpVariable(\"Olaf_pon\", 0, 1, LpInteger)\n",
        "O_tue = LpVariable(\"Olaf_wt\", 0, 1, LpInteger)\n",
        "O_wed = LpVariable(\"Olaf_sr\", 0, 1, LpInteger)\n",
        "O_thu = LpVariable(\"Olaf_czw\", 0, 1, LpInteger)\n",
        "O_fri = LpVariable(\"Olaf_pt\", 0, 1, LpInteger)\n",
        "L_mon = LpVariable(\"Lidia_pon\", 0, 1, LpInteger)\n",
        "L_tue = LpVariable(\"Lidia_wt\", 0, 1, LpInteger)\n",
        "L_wed = LpVariable(\"Lidia_sr\", 0, 1, LpInteger)\n",
        "L_thu = LpVariable(\"Lidia_czw\", 0, 1, LpInteger)\n",
        "L_fri = LpVariable(\"Lidia_pt\", 0, 1, LpInteger)\n",
        "P_mon = LpVariable(\"Piotr_pon\", 0, 1, LpInteger)\n",
        "P_tue = LpVariable(\"Piotr_wt\", 0, 1, LpInteger)\n",
        "P_wed = LpVariable(\"Piotr_sr\", 0, 1, LpInteger)\n",
        "P_thu = LpVariable(\"Piotr_czw\", 0, 1, LpInteger)\n",
        "P_fri = LpVariable(\"Piotr_pt\", 0, 1, LpInteger)\n",
        "\n",
        "\n",
        "### earnings in zl per hour -> constant\n",
        "A_rate = 100\n",
        "S_rate = 50\n",
        "H_rate = 60\n",
        "O_rate = 40\n",
        "L_rate = 110\n",
        "P_rate = 70\n",
        "\n",
        "### Main problem\n",
        "prob += (A_mon+A_tue+A_wed+A_thu+A_fri) * A_rate + (S_mon+S_tue+S_wed+S_thu+S_fri) * S_rate + (H_mon+H_tue+H_wed+H_thu+H_fri) * H_rate + (O_mon+O_tue+O_wed+O_thu+O_fri) * O_rate + (L_mon+L_tue+L_wed+L_thu+L_fri) * L_rate + (P_mon+P_tue+P_wed+P_thu+P_fri) * P_rate, \"minimum_cost\"\n",
        "\n",
        "### Constraints\n",
        "\n",
        "#amount of people for each day\n",
        "prob += A_mon+S_mon+H_mon+O_mon+L_mon+P_mon == 2, \"mon\"\n",
        "prob += A_tue+S_tue+H_tue+O_tue+L_tue+P_tue== 1, \"tue\"\n",
        "prob += A_wed+S_wed+H_wed+O_wed+L_wed+P_wed == 1, \"wed\"\n",
        "prob += A_thu+S_thu+H_thu+O_thu+L_thu+P_thu == 1, \"thu\"\n",
        "prob += A_fri+S_fri+H_fri+O_fri+L_fri+P_fri == 3, \"fri\"\n",
        "\n",
        "# out of work days\n",
        "prob += S_tue+S_wed+S_thu+S_fri == 0 , \"S_out\"\n",
        "prob += H_thu+H_fri == 0, \"H_out\"\n",
        "prob += L_mon+L_tue+L_wed == 0, \"L_out\"\n",
        "prob += P_thu+P_fri == 0, \"P_out\"\n",
        "\n",
        "# max amount of working day\n",
        "prob += A_mon+A_tue+A_wed+A_thu+A_fri <= 3, \"A_3_days\" \n",
        "prob += S_mon+S_tue+S_wed+S_thu+S_fri <= 3, \"S_3_days\" \n",
        "prob += H_mon+H_tue+H_wed+H_thu+H_fri <= 3, \"H_3_days\" \n",
        "prob += O_mon+O_tue+O_wed+O_thu+O_fri <= 3, \"O_3_days\"\n",
        "prob += L_mon+L_tue+L_wed+L_thu+L_fri <= 3, \"L_3_days\"\n",
        "prob += P_mon+P_tue+P_wed+P_thu+P_fri <= 3, \"P_3_days\"\n",
        "\n",
        "prob.writeLP(\"week.lp\")\n",
        "\n",
        "prob.solve()\n",
        "print(\"Status:\", LpStatus[prob.status])\n",
        "\n",
        "print(\"Overall cost:\", value(prob.objective), \"zl\\n\") \n",
        "\n",
        "for v in prob.variables():\n",
        "    print(v.name, \"=\", v.varValue)"
      ],
      "execution_count": null,
      "outputs": [
        {
          "output_type": "stream",
          "text": [
            "Status: Optimal\n",
            "Overall cost: 500.0 zl\n",
            "\n",
            "Ania_czw = 0.0\n",
            "Ania_pon = 0.0\n",
            "Ania_pt = 1.0\n",
            "Ania_sr = 0.0\n",
            "Ania_wt = 0.0\n",
            "Hektor_czw = 0.0\n",
            "Hektor_pon = 1.0\n",
            "Hektor_pt = 0.0\n",
            "Hektor_sr = 1.0\n",
            "Hektor_wt = 0.0\n",
            "Lidia_czw = 0.0\n",
            "Lidia_pon = 0.0\n",
            "Lidia_pt = 1.0\n",
            "Lidia_sr = 0.0\n",
            "Lidia_wt = 0.0\n",
            "Olaf_czw = 1.0\n",
            "Olaf_pon = 0.0\n",
            "Olaf_pt = 1.0\n",
            "Olaf_sr = 0.0\n",
            "Olaf_wt = 1.0\n",
            "Piotr_czw = 0.0\n",
            "Piotr_pon = 0.0\n",
            "Piotr_pt = 0.0\n",
            "Piotr_sr = 0.0\n",
            "Piotr_wt = 0.0\n",
            "Stefan_czw = 0.0\n",
            "Stefan_pon = 1.0\n",
            "Stefan_pt = 0.0\n",
            "Stefan_sr = 0.0\n",
            "Stefan_wt = 0.0\n"
          ],
          "name": "stdout"
        }
      ]
    }
  ]
}